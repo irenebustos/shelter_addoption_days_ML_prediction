{
 "cells": [
  {
   "cell_type": "code",
   "execution_count": 16,
   "metadata": {},
   "outputs": [],
   "source": [
    "import requests\n",
    "\n",
    "host = 'zoomcamp-shelter.eba-ywf2smin.eu-west-1.elasticbeanstalk.com/'\n",
    "url = f'http://{host}/predict'"
   ]
  },
  {
   "cell_type": "code",
   "execution_count": 17,
   "metadata": {},
   "outputs": [],
   "source": [
    "animal = {\n",
    " 'intake_type_group': 'stray',\n",
    " 'intake_condition_group': 'sick',\n",
    " 'is_male': 0,\n",
    " 'hair_type': 'unknown',\n",
    " 'breed_group': 'pit_bull',\n",
    " 'color_group': 'tan & white',\n",
    " 'age_in_months': 120,\n",
    " 'month_in': 6,\n",
    " 'animals_in_shelter': 944,\n",
    " 'day_of_week_in': 5,\n",
    " 'is_dog': 0,\n",
    " 'is_mix_breed': 1,\n",
    " 'is_miniature': 0,\n",
    " 'is_domestic': 0,\n",
    " 'is_castrated': 1}"
   ]
  },
  {
   "cell_type": "code",
   "execution_count": 18,
   "metadata": {},
   "outputs": [
    {
     "name": "stdout",
     "output_type": "stream",
     "text": [
      "Estimated days the animal will spend in the shelter: 8\n",
      "This is a short stay animal. No need to have special attention to it.\n"
     ]
    }
   ],
   "source": [
    "response = requests.post(url, json=animal).json()\n",
    "predicted_days = response.get('predicted_days_in_shelter')\n",
    "\n",
    "if predicted_days is not None and isinstance(predicted_days, (int, float)):\n",
    "    rounded_days = round(predicted_days)\n",
    "\n",
    "    if rounded_days > 15:\n",
    "        print('Estimated days the animal will spend in the shelter:', rounded_days)\n",
    "        print('This is a long stay animal. Please promote this animal to be adopted.')\n",
    "    else:\n",
    "        print('Estimated days the animal will spend in the shelter:', rounded_days)\n",
    "        print('This is a short stay animal. No need to have special attention to it.')\n",
    "else:\n",
    "    print(\"Error: Invalid response from the API. Expected a numerical prediction.\")\n"
   ]
  }
 ],
 "metadata": {
  "kernelspec": {
   "display_name": "ml-zoomcamp",
   "language": "python",
   "name": "python3"
  },
  "language_info": {
   "codemirror_mode": {
    "name": "ipython",
    "version": 3
   },
   "file_extension": ".py",
   "mimetype": "text/x-python",
   "name": "python",
   "nbconvert_exporter": "python",
   "pygments_lexer": "ipython3",
   "version": "3.10.15"
  }
 },
 "nbformat": 4,
 "nbformat_minor": 2
}
