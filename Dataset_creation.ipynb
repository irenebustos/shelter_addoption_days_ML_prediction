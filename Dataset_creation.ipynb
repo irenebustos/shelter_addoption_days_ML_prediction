{
 "cells": [
  {
   "cell_type": "code",
   "execution_count": 37,
   "metadata": {},
   "outputs": [],
   "source": [
    "import requests\n",
    "import pandas as pd\n",
    "import numpy as np"
   ]
  },
  {
   "cell_type": "markdown",
   "metadata": {},
   "source": [
    "### Dataset claning and preparation\n",
    "The objective in this part is to manipulate the intake and outcome datasets and have a clean database with 1 row per animal intake and the oucome of that income. \n",
    "\n",
    "Additionally, by taking a look on the oucome types I will decide which data should be used for the model. "
   ]
  },
  {
   "cell_type": "markdown",
   "metadata": {},
   "source": [
    "1. Merging datasets"
   ]
  },
  {
   "cell_type": "code",
   "execution_count": 38,
   "metadata": {},
   "outputs": [],
   "source": [
    "# read csv file from this folder with the intakes and the outcomes\n",
    "intakes = pd.read_csv('Austin_animals_intake.csv')\n",
    "outcomes = pd.read_csv('Austin_animals_outcome.csv')\n"
   ]
  },
  {
   "cell_type": "code",
   "execution_count": 39,
   "metadata": {},
   "outputs": [],
   "source": [
    "# from outcomes just selecting the important columns 'animal_id', 'datetime','outcome_type' \n",
    "outcomes = outcomes[['animal_id', 'datetime', 'outcome_type']]"
   ]
  },
  {
   "cell_type": "code",
   "execution_count": 40,
   "metadata": {},
   "outputs": [
    {
     "data": {
      "text/html": [
       "<div>\n",
       "<style scoped>\n",
       "    .dataframe tbody tr th:only-of-type {\n",
       "        vertical-align: middle;\n",
       "    }\n",
       "\n",
       "    .dataframe tbody tr th {\n",
       "        vertical-align: top;\n",
       "    }\n",
       "\n",
       "    .dataframe thead th {\n",
       "        text-align: right;\n",
       "    }\n",
       "</style>\n",
       "<table border=\"1\" class=\"dataframe\">\n",
       "  <thead>\n",
       "    <tr style=\"text-align: right;\">\n",
       "      <th></th>\n",
       "      <th>animal_id</th>\n",
       "      <th>name</th>\n",
       "      <th>datetime_intake</th>\n",
       "      <th>datetime2</th>\n",
       "      <th>found_location</th>\n",
       "      <th>intake_type</th>\n",
       "      <th>intake_condition</th>\n",
       "      <th>animal_type</th>\n",
       "      <th>sex_upon_intake</th>\n",
       "      <th>age_upon_intake</th>\n",
       "      <th>breed</th>\n",
       "      <th>color</th>\n",
       "      <th>datetime_outcome</th>\n",
       "      <th>outcome_type</th>\n",
       "    </tr>\n",
       "  </thead>\n",
       "  <tbody>\n",
       "    <tr>\n",
       "      <th>0</th>\n",
       "      <td>A786884</td>\n",
       "      <td>*Brock</td>\n",
       "      <td>2019-01-03T16:19:00.000</td>\n",
       "      <td>2019-01-03T16:19:00.000</td>\n",
       "      <td>2501 Magin Meadow Dr in Austin (TX)</td>\n",
       "      <td>Stray</td>\n",
       "      <td>Normal</td>\n",
       "      <td>Dog</td>\n",
       "      <td>Neutered Male</td>\n",
       "      <td>2 years</td>\n",
       "      <td>Beagle Mix</td>\n",
       "      <td>Tricolor</td>\n",
       "      <td>2019-01-08T15:11:00.000</td>\n",
       "      <td>Transfer</td>\n",
       "    </tr>\n",
       "    <tr>\n",
       "      <th>1</th>\n",
       "      <td>A706918</td>\n",
       "      <td>Belle</td>\n",
       "      <td>2015-07-05T12:59:00.000</td>\n",
       "      <td>2015-07-05T12:59:00.000</td>\n",
       "      <td>9409 Bluegrass Dr in Austin (TX)</td>\n",
       "      <td>Stray</td>\n",
       "      <td>Normal</td>\n",
       "      <td>Dog</td>\n",
       "      <td>Spayed Female</td>\n",
       "      <td>8 years</td>\n",
       "      <td>English Springer Spaniel</td>\n",
       "      <td>White/Liver</td>\n",
       "      <td>2015-07-05T15:13:00.000</td>\n",
       "      <td>Return to Owner</td>\n",
       "    </tr>\n",
       "    <tr>\n",
       "      <th>2</th>\n",
       "      <td>A724273</td>\n",
       "      <td>Runster</td>\n",
       "      <td>2016-04-14T18:43:00.000</td>\n",
       "      <td>2016-04-14T18:43:00.000</td>\n",
       "      <td>2818 Palomino Trail in Austin (TX)</td>\n",
       "      <td>Stray</td>\n",
       "      <td>Normal</td>\n",
       "      <td>Dog</td>\n",
       "      <td>Intact Male</td>\n",
       "      <td>11 months</td>\n",
       "      <td>Basenji Mix</td>\n",
       "      <td>Sable/White</td>\n",
       "      <td>2016-04-21T17:17:00.000</td>\n",
       "      <td>Return to Owner</td>\n",
       "    </tr>\n",
       "    <tr>\n",
       "      <th>3</th>\n",
       "      <td>A665644</td>\n",
       "      <td>NaN</td>\n",
       "      <td>2013-10-21T07:59:00.000</td>\n",
       "      <td>2013-10-21T07:59:00.000</td>\n",
       "      <td>Austin (TX)</td>\n",
       "      <td>Stray</td>\n",
       "      <td>Sick</td>\n",
       "      <td>Cat</td>\n",
       "      <td>Intact Female</td>\n",
       "      <td>4 weeks</td>\n",
       "      <td>Domestic Shorthair Mix</td>\n",
       "      <td>Calico</td>\n",
       "      <td>2013-10-21T11:39:00.000</td>\n",
       "      <td>Transfer</td>\n",
       "    </tr>\n",
       "    <tr>\n",
       "      <th>4</th>\n",
       "      <td>A857105</td>\n",
       "      <td>Johnny Ringo</td>\n",
       "      <td>2022-05-12T00:23:00.000</td>\n",
       "      <td>2022-05-12T00:23:00.000</td>\n",
       "      <td>4404 Sarasota Drive in Austin (TX)</td>\n",
       "      <td>Public Assist</td>\n",
       "      <td>Normal</td>\n",
       "      <td>Cat</td>\n",
       "      <td>Neutered Male</td>\n",
       "      <td>2 years</td>\n",
       "      <td>Domestic Shorthair</td>\n",
       "      <td>Orange Tabby</td>\n",
       "      <td>2022-05-12T14:35:00.000</td>\n",
       "      <td>Transfer</td>\n",
       "    </tr>\n",
       "  </tbody>\n",
       "</table>\n",
       "</div>"
      ],
      "text/plain": [
       "  animal_id          name          datetime_intake                datetime2  \\\n",
       "0   A786884        *Brock  2019-01-03T16:19:00.000  2019-01-03T16:19:00.000   \n",
       "1   A706918         Belle  2015-07-05T12:59:00.000  2015-07-05T12:59:00.000   \n",
       "2   A724273       Runster  2016-04-14T18:43:00.000  2016-04-14T18:43:00.000   \n",
       "3   A665644           NaN  2013-10-21T07:59:00.000  2013-10-21T07:59:00.000   \n",
       "4   A857105  Johnny Ringo  2022-05-12T00:23:00.000  2022-05-12T00:23:00.000   \n",
       "\n",
       "                        found_location    intake_type intake_condition  \\\n",
       "0  2501 Magin Meadow Dr in Austin (TX)          Stray           Normal   \n",
       "1     9409 Bluegrass Dr in Austin (TX)          Stray           Normal   \n",
       "2   2818 Palomino Trail in Austin (TX)          Stray           Normal   \n",
       "3                          Austin (TX)          Stray             Sick   \n",
       "4   4404 Sarasota Drive in Austin (TX)  Public Assist           Normal   \n",
       "\n",
       "  animal_type sex_upon_intake age_upon_intake                     breed  \\\n",
       "0         Dog   Neutered Male         2 years                Beagle Mix   \n",
       "1         Dog   Spayed Female         8 years  English Springer Spaniel   \n",
       "2         Dog     Intact Male       11 months               Basenji Mix   \n",
       "3         Cat   Intact Female         4 weeks    Domestic Shorthair Mix   \n",
       "4         Cat   Neutered Male         2 years        Domestic Shorthair   \n",
       "\n",
       "          color         datetime_outcome     outcome_type  \n",
       "0      Tricolor  2019-01-08T15:11:00.000         Transfer  \n",
       "1   White/Liver  2015-07-05T15:13:00.000  Return to Owner  \n",
       "2   Sable/White  2016-04-21T17:17:00.000  Return to Owner  \n",
       "3        Calico  2013-10-21T11:39:00.000         Transfer  \n",
       "4  Orange Tabby  2022-05-12T14:35:00.000         Transfer  "
      ]
     },
     "execution_count": 40,
     "metadata": {},
     "output_type": "execute_result"
    }
   ],
   "source": [
    "# merging the two dataframes on 'animal_id', just using the animals that are present in both dataframes as for the rest we dont have the outcome\n",
    "df = pd.merge(intakes, outcomes, on='animal_id', how='inner', suffixes=('_intake', '_outcome'))\n",
    "df.head()"
   ]
  },
  {
   "cell_type": "markdown",
   "metadata": {},
   "source": [
    "2. Do we have some animals with more than 1 intakes? if so, we need to solve this issue and assign the outcome to the specific entry. "
   ]
  },
  {
   "cell_type": "code",
   "execution_count": 41,
   "metadata": {},
   "outputs": [
    {
     "data": {
      "text/html": [
       "<div>\n",
       "<style scoped>\n",
       "    .dataframe tbody tr th:only-of-type {\n",
       "        vertical-align: middle;\n",
       "    }\n",
       "\n",
       "    .dataframe tbody tr th {\n",
       "        vertical-align: top;\n",
       "    }\n",
       "\n",
       "    .dataframe thead th {\n",
       "        text-align: right;\n",
       "    }\n",
       "</style>\n",
       "<table border=\"1\" class=\"dataframe\">\n",
       "  <thead>\n",
       "    <tr style=\"text-align: right;\">\n",
       "      <th></th>\n",
       "      <th>times</th>\n",
       "      <th>frequency</th>\n",
       "    </tr>\n",
       "  </thead>\n",
       "  <tbody>\n",
       "    <tr>\n",
       "      <th>0</th>\n",
       "      <td>1</td>\n",
       "      <td>137708</td>\n",
       "    </tr>\n",
       "    <tr>\n",
       "      <th>4</th>\n",
       "      <td>2</td>\n",
       "      <td>182</td>\n",
       "    </tr>\n",
       "    <tr>\n",
       "      <th>1</th>\n",
       "      <td>4</td>\n",
       "      <td>10351</td>\n",
       "    </tr>\n",
       "    <tr>\n",
       "      <th>8</th>\n",
       "      <td>6</td>\n",
       "      <td>29</td>\n",
       "    </tr>\n",
       "    <tr>\n",
       "      <th>2</th>\n",
       "      <td>9</td>\n",
       "      <td>1909</td>\n",
       "    </tr>\n",
       "    <tr>\n",
       "      <th>10</th>\n",
       "      <td>12</td>\n",
       "      <td>6</td>\n",
       "    </tr>\n",
       "    <tr>\n",
       "      <th>3</th>\n",
       "      <td>16</td>\n",
       "      <td>503</td>\n",
       "    </tr>\n",
       "    <tr>\n",
       "      <th>12</th>\n",
       "      <td>20</td>\n",
       "      <td>4</td>\n",
       "    </tr>\n",
       "    <tr>\n",
       "      <th>5</th>\n",
       "      <td>25</td>\n",
       "      <td>138</td>\n",
       "    </tr>\n",
       "    <tr>\n",
       "      <th>6</th>\n",
       "      <td>36</td>\n",
       "      <td>53</td>\n",
       "    </tr>\n",
       "    <tr>\n",
       "      <th>7</th>\n",
       "      <td>49</td>\n",
       "      <td>37</td>\n",
       "    </tr>\n",
       "    <tr>\n",
       "      <th>9</th>\n",
       "      <td>64</td>\n",
       "      <td>14</td>\n",
       "    </tr>\n",
       "    <tr>\n",
       "      <th>11</th>\n",
       "      <td>81</td>\n",
       "      <td>5</td>\n",
       "    </tr>\n",
       "    <tr>\n",
       "      <th>15</th>\n",
       "      <td>100</td>\n",
       "      <td>1</td>\n",
       "    </tr>\n",
       "    <tr>\n",
       "      <th>13</th>\n",
       "      <td>121</td>\n",
       "      <td>2</td>\n",
       "    </tr>\n",
       "    <tr>\n",
       "      <th>16</th>\n",
       "      <td>144</td>\n",
       "      <td>1</td>\n",
       "    </tr>\n",
       "    <tr>\n",
       "      <th>14</th>\n",
       "      <td>196</td>\n",
       "      <td>1</td>\n",
       "    </tr>\n",
       "    <tr>\n",
       "      <th>17</th>\n",
       "      <td>1089</td>\n",
       "      <td>1</td>\n",
       "    </tr>\n",
       "  </tbody>\n",
       "</table>\n",
       "</div>"
      ],
      "text/plain": [
       "    times  frequency\n",
       "0       1     137708\n",
       "4       2        182\n",
       "1       4      10351\n",
       "8       6         29\n",
       "2       9       1909\n",
       "10     12          6\n",
       "3      16        503\n",
       "12     20          4\n",
       "5      25        138\n",
       "6      36         53\n",
       "7      49         37\n",
       "9      64         14\n",
       "11     81          5\n",
       "15    100          1\n",
       "13    121          2\n",
       "16    144          1\n",
       "14    196          1\n",
       "17   1089          1"
      ]
     },
     "execution_count": 41,
     "metadata": {},
     "output_type": "execute_result"
    }
   ],
   "source": [
    "animal_id_counts = df['animal_id'].value_counts().reset_index()\n",
    "animal_id_counts.columns = ['animal_id','times']\n",
    "times_distribution = (\n",
    "    animal_id_counts['times']\n",
    "    .value_counts()\n",
    "    .round(3)   # Sort by the index (number of occurrences)\n",
    ").reset_index()\n",
    " \n",
    "times_distribution.columns = ['times', 'frequency']\n",
    "times_distribution_sorted = times_distribution.sort_values(by='times', ascending=True)\n",
    "times_distribution_sorted"
   ]
  },
  {
   "cell_type": "code",
   "execution_count": 42,
   "metadata": {},
   "outputs": [
    {
     "data": {
      "text/html": [
       "<div>\n",
       "<style scoped>\n",
       "    .dataframe tbody tr th:only-of-type {\n",
       "        vertical-align: middle;\n",
       "    }\n",
       "\n",
       "    .dataframe tbody tr th {\n",
       "        vertical-align: top;\n",
       "    }\n",
       "\n",
       "    .dataframe thead th {\n",
       "        text-align: right;\n",
       "    }\n",
       "</style>\n",
       "<table border=\"1\" class=\"dataframe\">\n",
       "  <thead>\n",
       "    <tr style=\"text-align: right;\">\n",
       "      <th></th>\n",
       "      <th>animal_id</th>\n",
       "      <th>times</th>\n",
       "    </tr>\n",
       "  </thead>\n",
       "  <tbody>\n",
       "    <tr>\n",
       "      <th>0</th>\n",
       "      <td>A721033</td>\n",
       "      <td>1089</td>\n",
       "    </tr>\n",
       "    <tr>\n",
       "      <th>1</th>\n",
       "      <td>A718223</td>\n",
       "      <td>196</td>\n",
       "    </tr>\n",
       "    <tr>\n",
       "      <th>2</th>\n",
       "      <td>A718877</td>\n",
       "      <td>144</td>\n",
       "    </tr>\n",
       "    <tr>\n",
       "      <th>3</th>\n",
       "      <td>A705625</td>\n",
       "      <td>121</td>\n",
       "    </tr>\n",
       "    <tr>\n",
       "      <th>4</th>\n",
       "      <td>A706536</td>\n",
       "      <td>121</td>\n",
       "    </tr>\n",
       "    <tr>\n",
       "      <th>...</th>\n",
       "      <td>...</td>\n",
       "      <td>...</td>\n",
       "    </tr>\n",
       "    <tr>\n",
       "      <th>150940</th>\n",
       "      <td>A667817</td>\n",
       "      <td>1</td>\n",
       "    </tr>\n",
       "    <tr>\n",
       "      <th>150941</th>\n",
       "      <td>A853959</td>\n",
       "      <td>1</td>\n",
       "    </tr>\n",
       "    <tr>\n",
       "      <th>150942</th>\n",
       "      <td>A902402</td>\n",
       "      <td>1</td>\n",
       "    </tr>\n",
       "    <tr>\n",
       "      <th>150943</th>\n",
       "      <td>A858540</td>\n",
       "      <td>1</td>\n",
       "    </tr>\n",
       "    <tr>\n",
       "      <th>150944</th>\n",
       "      <td>A917696</td>\n",
       "      <td>1</td>\n",
       "    </tr>\n",
       "  </tbody>\n",
       "</table>\n",
       "<p>150945 rows × 2 columns</p>\n",
       "</div>"
      ],
      "text/plain": [
       "       animal_id  times\n",
       "0        A721033   1089\n",
       "1        A718223    196\n",
       "2        A718877    144\n",
       "3        A705625    121\n",
       "4        A706536    121\n",
       "...          ...    ...\n",
       "150940   A667817      1\n",
       "150941   A853959      1\n",
       "150942   A902402      1\n",
       "150943   A858540      1\n",
       "150944   A917696      1\n",
       "\n",
       "[150945 rows x 2 columns]"
      ]
     },
     "execution_count": 42,
     "metadata": {},
     "output_type": "execute_result"
    }
   ],
   "source": [
    "animal_id_counts"
   ]
  },
  {
   "cell_type": "markdown",
   "metadata": {},
   "source": [
    "In the table above we can see that are animals that come to the shelter more than once, some animals came 1089 times, 196, 144...  \n",
    "We need to attribute the outcome to the exact intake: I would use the most close outcome by comparing timestamps."
   ]
  },
  {
   "cell_type": "code",
   "execution_count": 43,
   "metadata": {},
   "outputs": [
    {
     "data": {
      "text/html": [
       "<div>\n",
       "<style scoped>\n",
       "    .dataframe tbody tr th:only-of-type {\n",
       "        vertical-align: middle;\n",
       "    }\n",
       "\n",
       "    .dataframe tbody tr th {\n",
       "        vertical-align: top;\n",
       "    }\n",
       "\n",
       "    .dataframe thead th {\n",
       "        text-align: right;\n",
       "    }\n",
       "</style>\n",
       "<table border=\"1\" class=\"dataframe\">\n",
       "  <thead>\n",
       "    <tr style=\"text-align: right;\">\n",
       "      <th></th>\n",
       "      <th>animal_id</th>\n",
       "      <th>name</th>\n",
       "      <th>datetime_intake</th>\n",
       "      <th>datetime2</th>\n",
       "      <th>found_location</th>\n",
       "      <th>intake_type</th>\n",
       "      <th>intake_condition</th>\n",
       "      <th>animal_type</th>\n",
       "      <th>sex_upon_intake</th>\n",
       "      <th>age_upon_intake</th>\n",
       "      <th>breed</th>\n",
       "      <th>color</th>\n",
       "      <th>datetime_outcome</th>\n",
       "      <th>outcome_type</th>\n",
       "      <th>seconds_intake_outcome</th>\n",
       "      <th>rank</th>\n",
       "    </tr>\n",
       "  </thead>\n",
       "  <tbody>\n",
       "    <tr>\n",
       "      <th>153183</th>\n",
       "      <td>A721033</td>\n",
       "      <td>Lil Bit</td>\n",
       "      <td>2016-02-20T10:44:00.000</td>\n",
       "      <td>2016-02-20T10:44:00.000</td>\n",
       "      <td>2508 E Riverside Dr in Austin (TX)</td>\n",
       "      <td>Stray</td>\n",
       "      <td>Normal</td>\n",
       "      <td>Dog</td>\n",
       "      <td>Neutered Male</td>\n",
       "      <td>9 months</td>\n",
       "      <td>Rat Terrier Mix</td>\n",
       "      <td>Tricolor/Brown Brindle</td>\n",
       "      <td>2016-02-20T16:18:00.000</td>\n",
       "      <td>Return to Owner</td>\n",
       "      <td>20040.0</td>\n",
       "      <td>1.0</td>\n",
       "    </tr>\n",
       "    <tr>\n",
       "      <th>58107</th>\n",
       "      <td>A721033</td>\n",
       "      <td>Lil Bit</td>\n",
       "      <td>2016-07-10T11:53:00.000</td>\n",
       "      <td>2016-07-10T11:53:00.000</td>\n",
       "      <td>6317 E Ben White Blvd in Austin (TX)</td>\n",
       "      <td>Stray</td>\n",
       "      <td>Normal</td>\n",
       "      <td>Dog</td>\n",
       "      <td>Neutered Male</td>\n",
       "      <td>1 year</td>\n",
       "      <td>Rat Terrier Mix</td>\n",
       "      <td>Tricolor/Brown Brindle</td>\n",
       "      <td>2016-07-11T17:44:00.000</td>\n",
       "      <td>Return to Owner</td>\n",
       "      <td>107460.0</td>\n",
       "      <td>1.0</td>\n",
       "    </tr>\n",
       "    <tr>\n",
       "      <th>180326</th>\n",
       "      <td>A721033</td>\n",
       "      <td>Lil Bit</td>\n",
       "      <td>2016-09-03T14:30:00.000</td>\n",
       "      <td>2016-09-03T14:30:00.000</td>\n",
       "      <td>6010 E Riverside in Austin (TX)</td>\n",
       "      <td>Public Assist</td>\n",
       "      <td>Normal</td>\n",
       "      <td>Dog</td>\n",
       "      <td>Neutered Male</td>\n",
       "      <td>1 year</td>\n",
       "      <td>Rat Terrier Mix</td>\n",
       "      <td>Tricolor/Brown Brindle</td>\n",
       "      <td>2016-09-12T13:40:00.000</td>\n",
       "      <td>Return to Owner</td>\n",
       "      <td>774600.0</td>\n",
       "      <td>1.0</td>\n",
       "    </tr>\n",
       "    <tr>\n",
       "      <th>46414</th>\n",
       "      <td>A721033</td>\n",
       "      <td>Lil Bit</td>\n",
       "      <td>2016-10-20T22:47:00.000</td>\n",
       "      <td>2016-10-20T22:47:00.000</td>\n",
       "      <td>6200 E. Ben White Blvd in Austin (TX)</td>\n",
       "      <td>Public Assist</td>\n",
       "      <td>Normal</td>\n",
       "      <td>Dog</td>\n",
       "      <td>Neutered Male</td>\n",
       "      <td>1 year</td>\n",
       "      <td>Rat Terrier Mix</td>\n",
       "      <td>Tricolor/Brown Brindle</td>\n",
       "      <td>2016-10-21T18:55:00.000</td>\n",
       "      <td>Return to Owner</td>\n",
       "      <td>72480.0</td>\n",
       "      <td>1.0</td>\n",
       "    </tr>\n",
       "    <tr>\n",
       "      <th>66099</th>\n",
       "      <td>A721033</td>\n",
       "      <td>Lil Bit</td>\n",
       "      <td>2016-12-15T10:07:00.000</td>\n",
       "      <td>2016-12-15T10:07:00.000</td>\n",
       "      <td>S Pleasant Valley Rd And E Riverside Dr in Aus...</td>\n",
       "      <td>Public Assist</td>\n",
       "      <td>Normal</td>\n",
       "      <td>Dog</td>\n",
       "      <td>Neutered Male</td>\n",
       "      <td>1 year</td>\n",
       "      <td>Rat Terrier Mix</td>\n",
       "      <td>Tricolor/Brown Brindle</td>\n",
       "      <td>2016-12-16T11:32:00.000</td>\n",
       "      <td>Return to Owner</td>\n",
       "      <td>91500.0</td>\n",
       "      <td>1.0</td>\n",
       "    </tr>\n",
       "  </tbody>\n",
       "</table>\n",
       "</div>"
      ],
      "text/plain": [
       "       animal_id     name          datetime_intake                datetime2  \\\n",
       "153183   A721033  Lil Bit  2016-02-20T10:44:00.000  2016-02-20T10:44:00.000   \n",
       "58107    A721033  Lil Bit  2016-07-10T11:53:00.000  2016-07-10T11:53:00.000   \n",
       "180326   A721033  Lil Bit  2016-09-03T14:30:00.000  2016-09-03T14:30:00.000   \n",
       "46414    A721033  Lil Bit  2016-10-20T22:47:00.000  2016-10-20T22:47:00.000   \n",
       "66099    A721033  Lil Bit  2016-12-15T10:07:00.000  2016-12-15T10:07:00.000   \n",
       "\n",
       "                                           found_location    intake_type  \\\n",
       "153183                 2508 E Riverside Dr in Austin (TX)          Stray   \n",
       "58107                6317 E Ben White Blvd in Austin (TX)          Stray   \n",
       "180326                    6010 E Riverside in Austin (TX)  Public Assist   \n",
       "46414               6200 E. Ben White Blvd in Austin (TX)  Public Assist   \n",
       "66099   S Pleasant Valley Rd And E Riverside Dr in Aus...  Public Assist   \n",
       "\n",
       "       intake_condition animal_type sex_upon_intake age_upon_intake  \\\n",
       "153183           Normal         Dog   Neutered Male        9 months   \n",
       "58107            Normal         Dog   Neutered Male          1 year   \n",
       "180326           Normal         Dog   Neutered Male          1 year   \n",
       "46414            Normal         Dog   Neutered Male          1 year   \n",
       "66099            Normal         Dog   Neutered Male          1 year   \n",
       "\n",
       "                  breed                   color         datetime_outcome  \\\n",
       "153183  Rat Terrier Mix  Tricolor/Brown Brindle  2016-02-20T16:18:00.000   \n",
       "58107   Rat Terrier Mix  Tricolor/Brown Brindle  2016-07-11T17:44:00.000   \n",
       "180326  Rat Terrier Mix  Tricolor/Brown Brindle  2016-09-12T13:40:00.000   \n",
       "46414   Rat Terrier Mix  Tricolor/Brown Brindle  2016-10-21T18:55:00.000   \n",
       "66099   Rat Terrier Mix  Tricolor/Brown Brindle  2016-12-16T11:32:00.000   \n",
       "\n",
       "           outcome_type  seconds_intake_outcome  rank  \n",
       "153183  Return to Owner                 20040.0   1.0  \n",
       "58107   Return to Owner                107460.0   1.0  \n",
       "180326  Return to Owner                774600.0   1.0  \n",
       "46414   Return to Owner                 72480.0   1.0  \n",
       "66099   Return to Owner                 91500.0   1.0  "
      ]
     },
     "execution_count": 43,
     "metadata": {},
     "output_type": "execute_result"
    }
   ],
   "source": [
    "# calculating the time difference between intake and outcome\n",
    "df['seconds_intake_outcome'] =  pd.to_datetime(df['datetime_outcome']) - pd.to_datetime(df['datetime_intake'])\n",
    "df['seconds_intake_outcome'] = df['seconds_intake_outcome'].dt.total_seconds()\n",
    "\n",
    "# calculating the rank by using the time difference. If the time difference is negative we should not consider it\n",
    "df = df[df['seconds_intake_outcome'] >= 0]\n",
    "df['rank'] = df.groupby(['animal_id','datetime_intake'])['seconds_intake_outcome'].rank(ascending=True, method='first')\n",
    "df =  df[df['rank'] == 1]\n",
    "\n",
    "# getting example of the animal_id=A721033\n",
    "df[df['animal_id'] == 'A721033'].sort_values(by='datetime_intake').head()"
   ]
  },
  {
   "cell_type": "markdown",
   "metadata": {},
   "source": [
    "3. Is there any intake that happen between another intake and oucome?"
   ]
  },
  {
   "cell_type": "code",
   "execution_count": 44,
   "metadata": {},
   "outputs": [
    {
     "name": "stderr",
     "output_type": "stream",
     "text": [
      "/var/folders/pz/bvpq88x94b1c7g8rq2gf4j3r0000gn/T/ipykernel_23727/3290933292.py:14: DeprecationWarning: DataFrameGroupBy.apply operated on the grouping columns. This behavior is deprecated, and in a future version of pandas the grouping columns will be excluded from the operation. Either pass `include_groups=False` to exclude the groupings or explicitly select the grouping columns after groupby to silence this warning.\n",
      "  df['is_invalid'] = df.groupby('animal_id', group_keys=False).apply(mark_invalid_rows)\n"
     ]
    }
   ],
   "source": [
    "# Convert datetime columns to datetime format\n",
    "df['datetime_intake'] = pd.to_datetime(df['datetime_intake'])\n",
    "df['datetime_outcome'] = pd.to_datetime(df['datetime_outcome'])\n",
    "\n",
    "# Function to identify invalid rows\n",
    "def mark_invalid_rows(group):\n",
    "    # Create a boolean mask where a row's datetime_intake is between another row's datetime_intake and datetime_outcome\n",
    "    invalid_mask = (group['datetime_intake'].apply(\n",
    "        lambda dt: ((group['datetime_intake'] < dt) & (group['datetime_outcome'] > dt)).any()\n",
    "    ))\n",
    "    return invalid_mask\n",
    "\n",
    "# Apply the function group-wise\n",
    "df['is_invalid'] = df.groupby('animal_id', group_keys=False).apply(mark_invalid_rows)\n"
   ]
  },
  {
   "cell_type": "markdown",
   "metadata": {},
   "source": [
    "checking if we have this cases"
   ]
  },
  {
   "cell_type": "code",
   "execution_count": 45,
   "metadata": {},
   "outputs": [
    {
     "name": "stdout",
     "output_type": "stream",
     "text": [
      "is_invalid\n",
      "False    167240\n",
      "True         42\n",
      "Name: count, dtype: int64\n"
     ]
    }
   ],
   "source": [
    "print(df.is_invalid.value_counts(normalize=False))"
   ]
  },
  {
   "cell_type": "markdown",
   "metadata": {},
   "source": [
    "we have few intakes incorrect but I will drop from the dataframe"
   ]
  },
  {
   "cell_type": "code",
   "execution_count": 46,
   "metadata": {},
   "outputs": [],
   "source": [
    "df = df[~df['is_invalid']]"
   ]
  },
  {
   "cell_type": "markdown",
   "metadata": {},
   "source": [
    "now we have our dataset with the proper format we need to start working on the model!"
   ]
  },
  {
   "cell_type": "markdown",
   "metadata": {},
   "source": [
    "3. Selecting the data we need for the model. \n"
   ]
  },
  {
   "cell_type": "code",
   "execution_count": 47,
   "metadata": {},
   "outputs": [
    {
     "data": {
      "text/plain": [
       "<Axes: xlabel='outcome_type'>"
      ]
     },
     "execution_count": 47,
     "metadata": {},
     "output_type": "execute_result"
    },
    {
     "data": {
      "image/png": "[encoded data removed]",
      "text/plain": [
       "<Figure size 640x480 with 1 Axes>"
      ]
     },
     "metadata": {},
     "output_type": "display_data"
    }
   ],
   "source": [
    "# animals by outcome_type in graph \n",
    "df['outcome_type'].value_counts().plot.bar() \n"
   ]
  },
  {
   "cell_type": "markdown",
   "metadata": {},
   "source": [
    "Explanation of Each Outcome:\n",
    "* Adoption:The animal was successfully adopted by an individual or family.This is usually the desired outcome for animals in a shelter.\n",
    "* Transfer:The animal was transferred to another organization, shelter, or rescue group. This can happen when the current shelter cannot accommodate the animal long-term or if another organization has better resources to care for or rehome it.\n",
    "* Return to Owner:The animal was returned to its original owner.Often occurs when pets are lost and later reunited with their owners through shelter or rescue efforts.\n",
    "* Euthanasia:The animal was humanely euthanized.This typically happens due to severe medical issues, behavioral problems, or lack of space in the shelter (although this is less common in no-kill shelters).\n",
    "* Died:The animal passed away while in the care of the shelter or during the intake/outcome process.This could be due to natural causes, accidents, or severe health problems.\n",
    "* Rto-Adopt (Return to Owner-Adopt): The animal was first returned to its original owner and then adopted by someone else. This can occur when the owner cannot continue to care for the pet and chooses to surrender it for adoption.\n",
    "* Disposal: Refers to cases where the animal's remains were handled by the shelter after its passing. This may apply to animals found deceased on intake or euthanized animals.\n",
    "* Missing: The animal was reported missing or lost from the shelter's care. This could be due to escape, theft, or administrative error.\n",
    "* Relocate: The animal was relocated to a different geographic area, either within the organization’s network or externally. This might involve moving animals to areas with higher demand for adoptions.\n",
    "* Stolen: The animal was stolen from the shelter or during transport.This is a rare occurrence but still happens occasionally.\n",
    "* Lost: Similar to \"Missing,\" this refers to animals lost during intake, care, or transport."
   ]
  },
  {
   "cell_type": "markdown",
   "metadata": {},
   "source": [
    "For simplification I will just use Addoption, Transfer, Return to owner and Euthanasia to see the time they spend in the shelter"
   ]
  },
  {
   "cell_type": "markdown",
   "metadata": {},
   "source": [
    "analysing the time in the shelter by outcome_type"
   ]
  },
  {
   "cell_type": "code",
   "execution_count": 48,
   "metadata": {},
   "outputs": [],
   "source": [
    "# drop duplicates\n",
    "df = df.drop_duplicates()"
   ]
  },
  {
   "cell_type": "code",
   "execution_count": 49,
   "metadata": {},
   "outputs": [
    {
     "data": {
      "text/html": [
       "<div>\n",
       "<style scoped>\n",
       "    .dataframe tbody tr th:only-of-type {\n",
       "        vertical-align: middle;\n",
       "    }\n",
       "\n",
       "    .dataframe tbody tr th {\n",
       "        vertical-align: top;\n",
       "    }\n",
       "\n",
       "    .dataframe thead th {\n",
       "        text-align: right;\n",
       "    }\n",
       "</style>\n",
       "<table border=\"1\" class=\"dataframe\">\n",
       "  <thead>\n",
       "    <tr style=\"text-align: right;\">\n",
       "      <th></th>\n",
       "      <th>outcome_type</th>\n",
       "      <th>total_records</th>\n",
       "      <th>mean_days</th>\n",
       "      <th>median_days</th>\n",
       "      <th>percentile_95</th>\n",
       "      <th>percentile_05</th>\n",
       "    </tr>\n",
       "  </thead>\n",
       "  <tbody>\n",
       "    <tr>\n",
       "      <th>0</th>\n",
       "      <td>Adoption</td>\n",
       "      <td>80845</td>\n",
       "      <td>34.7</td>\n",
       "      <td>14.0</td>\n",
       "      <td>119.0</td>\n",
       "      <td>2.3</td>\n",
       "    </tr>\n",
       "    <tr>\n",
       "      <th>10</th>\n",
       "      <td>Transfer</td>\n",
       "      <td>47044</td>\n",
       "      <td>10.1</td>\n",
       "      <td>4.0</td>\n",
       "      <td>39.9</td>\n",
       "      <td>0.1</td>\n",
       "    </tr>\n",
       "    <tr>\n",
       "      <th>7</th>\n",
       "      <td>Return to Owner</td>\n",
       "      <td>25189</td>\n",
       "      <td>3.6</td>\n",
       "      <td>1.7</td>\n",
       "      <td>11.1</td>\n",
       "      <td>0.1</td>\n",
       "    </tr>\n",
       "    <tr>\n",
       "      <th>3</th>\n",
       "      <td>Euthanasia</td>\n",
       "      <td>10408</td>\n",
       "      <td>6.0</td>\n",
       "      <td>0.5</td>\n",
       "      <td>20.1</td>\n",
       "      <td>0.0</td>\n",
       "    </tr>\n",
       "    <tr>\n",
       "      <th>1</th>\n",
       "      <td>Died</td>\n",
       "      <td>1571</td>\n",
       "      <td>12.6</td>\n",
       "      <td>3.9</td>\n",
       "      <td>51.0</td>\n",
       "      <td>0.0</td>\n",
       "    </tr>\n",
       "    <tr>\n",
       "      <th>8</th>\n",
       "      <td>Rto-Adopt</td>\n",
       "      <td>1199</td>\n",
       "      <td>18.5</td>\n",
       "      <td>7.9</td>\n",
       "      <td>59.2</td>\n",
       "      <td>1.9</td>\n",
       "    </tr>\n",
       "    <tr>\n",
       "      <th>2</th>\n",
       "      <td>Disposal</td>\n",
       "      <td>824</td>\n",
       "      <td>6.1</td>\n",
       "      <td>1.4</td>\n",
       "      <td>23.8</td>\n",
       "      <td>0.0</td>\n",
       "    </tr>\n",
       "    <tr>\n",
       "      <th>5</th>\n",
       "      <td>Missing</td>\n",
       "      <td>87</td>\n",
       "      <td>51.6</td>\n",
       "      <td>38.2</td>\n",
       "      <td>133.1</td>\n",
       "      <td>3.1</td>\n",
       "    </tr>\n",
       "    <tr>\n",
       "      <th>6</th>\n",
       "      <td>Relocate</td>\n",
       "      <td>24</td>\n",
       "      <td>5.9</td>\n",
       "      <td>1.6</td>\n",
       "      <td>20.1</td>\n",
       "      <td>0.0</td>\n",
       "    </tr>\n",
       "    <tr>\n",
       "      <th>9</th>\n",
       "      <td>Stolen</td>\n",
       "      <td>5</td>\n",
       "      <td>87.7</td>\n",
       "      <td>26.4</td>\n",
       "      <td>292.4</td>\n",
       "      <td>5.7</td>\n",
       "    </tr>\n",
       "    <tr>\n",
       "      <th>4</th>\n",
       "      <td>Lost</td>\n",
       "      <td>3</td>\n",
       "      <td>42.1</td>\n",
       "      <td>27.8</td>\n",
       "      <td>84.4</td>\n",
       "      <td>9.9</td>\n",
       "    </tr>\n",
       "  </tbody>\n",
       "</table>\n",
       "</div>"
      ],
      "text/plain": [
       "       outcome_type  total_records  mean_days  median_days  percentile_95  \\\n",
       "0          Adoption          80845       34.7         14.0          119.0   \n",
       "10         Transfer          47044       10.1          4.0           39.9   \n",
       "7   Return to Owner          25189        3.6          1.7           11.1   \n",
       "3        Euthanasia          10408        6.0          0.5           20.1   \n",
       "1              Died           1571       12.6          3.9           51.0   \n",
       "8         Rto-Adopt           1199       18.5          7.9           59.2   \n",
       "2          Disposal            824        6.1          1.4           23.8   \n",
       "5           Missing             87       51.6         38.2          133.1   \n",
       "6          Relocate             24        5.9          1.6           20.1   \n",
       "9            Stolen              5       87.7         26.4          292.4   \n",
       "4              Lost              3       42.1         27.8           84.4   \n",
       "\n",
       "    percentile_05  \n",
       "0             2.3  \n",
       "10            0.1  \n",
       "7             0.1  \n",
       "3             0.0  \n",
       "1             0.0  \n",
       "8             1.9  \n",
       "2             0.0  \n",
       "5             3.1  \n",
       "6             0.0  \n",
       "9             5.7  \n",
       "4             9.9  "
      ]
     },
     "execution_count": 49,
     "metadata": {},
     "output_type": "execute_result"
    }
   ],
   "source": [
    "# Group by outcome_type and calculate statistics \n",
    "df['unique_id'] = df['animal_id'].astype(str) + '_' + df['datetime_intake'].astype(str)\n",
    "df['days_intake_outcome'] = df['seconds_intake_outcome'] / (60 * 60 * 24)\n",
    "\n",
    "time_shelter = df.groupby('outcome_type').agg(\n",
    "    total_records = ('unique_id', 'count'),  # Total rows\n",
    "    mean_days=('days_intake_outcome', lambda x: round(x.mean(), 1)),  \n",
    "    median_days=('days_intake_outcome', lambda x: round(x.median(), 1)),  \n",
    "    percentile_95=('days_intake_outcome', lambda x: round(x.quantile(0.95), 1)),  # 95th percentile \n",
    "    percentile_05=('days_intake_outcome', lambda x: round(x.quantile(0.05), 1))  # 95th percentile \n",
    ").reset_index()\n",
    "\n",
    "\n",
    "time_shelter.sort_values(by='total_records', ascending=False)\n"
   ]
  },
  {
   "cell_type": "markdown",
   "metadata": {},
   "source": [
    "Is interesting seeing that 50% of addoptions were produced in the first 14 days and 95% in <= 119 days.  \n",
    "\n",
    "As it seems that transfers are very quick (50% of them 4 days or less), returns to owners are also very quick and seems that euthanasia is due to animal sickness before the intake, I would just use the Adoption outcome_type for the case.\n",
    "Let´s save the data in a csv for the project."
   ]
  },
  {
   "cell_type": "code",
   "execution_count": 50,
   "metadata": {},
   "outputs": [
    {
     "data": {
      "text/plain": [
       "Index(['animal_id', 'name', 'datetime_intake', 'datetime2', 'found_location',\n",
       "       'intake_type', 'intake_condition', 'animal_type', 'sex_upon_intake',\n",
       "       'age_upon_intake', 'breed', 'color', 'datetime_outcome', 'outcome_type',\n",
       "       'seconds_intake_outcome', 'rank', 'is_invalid', 'unique_id',\n",
       "       'days_intake_outcome'],\n",
       "      dtype='object')"
      ]
     },
     "execution_count": 50,
     "metadata": {},
     "output_type": "execute_result"
    }
   ],
   "source": [
    "df.columns\n"
   ]
  },
  {
   "cell_type": "code",
   "execution_count": 51,
   "metadata": {},
   "outputs": [
    {
     "data": {
      "text/plain": [
       "(167240, 19)"
      ]
     },
     "execution_count": 51,
     "metadata": {},
     "output_type": "execute_result"
    }
   ],
   "source": [
    "df.shape    "
   ]
  },
  {
   "cell_type": "code",
   "execution_count": 52,
   "metadata": {},
   "outputs": [
    {
     "data": {
      "text/plain": [
       "count    167240.000000\n",
       "mean         20.829908\n",
       "std          47.881089\n",
       "min           0.000000\n",
       "25%           2.003472\n",
       "50%           5.979861\n",
       "75%          19.309549\n",
       "max        1912.938194\n",
       "Name: days_intake_outcome, dtype: float64"
      ]
     },
     "execution_count": 52,
     "metadata": {},
     "output_type": "execute_result"
    }
   ],
   "source": [
    "\n",
    "df['days_intake_outcome'].describe() "
   ]
  },
  {
   "cell_type": "code",
   "execution_count": 53,
   "metadata": {},
   "outputs": [
    {
     "data": {
      "text/plain": [
       "count    165567.000000\n",
       "mean         17.383567\n",
       "std          28.494736\n",
       "min           0.000000\n",
       "25%           1.979861\n",
       "50%           5.913194\n",
       "75%          18.259375\n",
       "max         211.939583\n",
       "Name: days_intake_outcome, dtype: float64"
      ]
     },
     "execution_count": 53,
     "metadata": {},
     "output_type": "execute_result"
    }
   ],
   "source": [
    "# remove the records> 99 percentile\n",
    "df = df[df['days_intake_outcome'] <= df['days_intake_outcome'].quantile(0.99)]\n",
    "\n",
    "df['days_intake_outcome'].describe()"
   ]
  },
  {
   "cell_type": "code",
   "execution_count": 54,
   "metadata": {},
   "outputs": [
    {
     "data": {
      "text/plain": [
       "(165567, 19)"
      ]
     },
     "execution_count": 54,
     "metadata": {},
     "output_type": "execute_result"
    }
   ],
   "source": [
    "df.shape   "
   ]
  },
  {
   "cell_type": "code",
   "execution_count": 55,
   "metadata": {},
   "outputs": [
    {
     "name": "stderr",
     "output_type": "stream",
     "text": [
      "/var/folders/pz/bvpq88x94b1c7g8rq2gf4j3r0000gn/T/ipykernel_23727/1854024800.py:5: SettingWithCopyWarning: \n",
      "A value is trying to be set on a copy of a slice from a DataFrame.\n",
      "Try using .loc[row_indexer,col_indexer] = value instead\n",
      "\n",
      "See the caveats in the documentation: https://pandas.pydata.org/pandas-docs/stable/user_guide/indexing.html#returning-a-view-versus-a-copy\n",
      "  df_adoptions['datetime_intake'] = df_adoptions['datetime_intake'].astype(str)\n",
      "/var/folders/pz/bvpq88x94b1c7g8rq2gf4j3r0000gn/T/ipykernel_23727/1854024800.py:6: SettingWithCopyWarning: \n",
      "A value is trying to be set on a copy of a slice from a DataFrame.\n",
      "Try using .loc[row_indexer,col_indexer] = value instead\n",
      "\n",
      "See the caveats in the documentation: https://pandas.pydata.org/pandas-docs/stable/user_guide/indexing.html#returning-a-view-versus-a-copy\n",
      "  df_adoptions['datetime_outcome'] = df_adoptions['datetime_outcome'].astype(str)\n"
     ]
    }
   ],
   "source": [
    "# create df addoptions with the outcome_type = Adoption \n",
    "df_adoptions = df[(df['outcome_type'] == 'Adoption' )& (df['animal_type'].isin(['Dog','Cat']))]\n",
    "\n",
    "# reverse the datetime_intake to object type\n",
    "df_adoptions['datetime_intake'] = df_adoptions['datetime_intake'].astype(str)\n",
    "df_adoptions['datetime_outcome'] = df_adoptions['datetime_outcome'].astype(str)\n",
    "\n",
    "#select columns that are useful for the analysis\n",
    "df_adoptions = df_adoptions[['animal_id', 'name', 'datetime_intake', 'found_location', 'intake_type',\n",
    "       'intake_condition', 'animal_type', 'sex_upon_intake', 'age_upon_intake',\n",
    "       'breed', 'color', 'datetime_outcome', 'outcome_type']]\n"
   ]
  },
  {
   "cell_type": "code",
   "execution_count": 56,
   "metadata": {},
   "outputs": [],
   "source": [
    "df_adoptions.to_csv('data.csv', index=False)"
   ]
  }
 ],
 "metadata": {
  "kernelspec": {
   "display_name": "ml-zoomcamp",
   "language": "python",
   "name": "python3"
  },
  "language_info": {
   "codemirror_mode": {
    "name": "ipython",
    "version": 3
   },
   "file_extension": ".py",
   "mimetype": "text/x-python",
   "name": "python",
   "nbconvert_exporter": "python",
   "pygments_lexer": "ipython3",
   "version": "3.11.10"
  }
 },
 "nbformat": 4,
 "nbformat_minor": 2
}
