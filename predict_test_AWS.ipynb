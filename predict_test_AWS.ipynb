{
 "cells": [
  {
   "cell_type": "code",
   "execution_count": 40,
   "metadata": {},
   "outputs": [],
   "source": [
    "import requests\n",
    "\n",
    "url = 'http://localhost:9696/predict'"
   ]
  },
  {
   "cell_type": "code",
   "execution_count": 41,
   "metadata": {},
   "outputs": [
    {
     "data": {
      "text/plain": [
       "{'predicted_days_in_shelter': 10.455312728881836}"
      ]
     },
     "execution_count": 41,
     "metadata": {},
     "output_type": "execute_result"
    }
   ],
   "source": [
    "animal = {\n",
    " 'intake_type_group': 'stray',\n",
    " 'intake_condition_group': 'sick',\n",
    " 'is_male': 0,\n",
    " 'hair_type': 'short',\n",
    " 'breed_group': 'pit_bull',\n",
    " 'color_group': 'tan & white',\n",
    " 'age_in_months': 120,\n",
    " 'month_in': 6,\n",
    " 'animals_in_shelter': 944,\n",
    " 'day_of_week_in': 4,\n",
    " 'is_dog': 1,\n",
    " 'is_mix_breed': 1,\n",
    " 'is_miniature': 1,\n",
    " 'is_domestic': 0,\n",
    " 'is_castrated': 0}\n",
    "response = requests.post(url, json=animal).json()\n",
    "response"
   ]
  }
 ],
 "metadata": {
  "kernelspec": {
   "display_name": "ml-zoomcamp",
   "language": "python",
   "name": "python3"
  },
  "language_info": {
   "codemirror_mode": {
    "name": "ipython",
    "version": 3
   },
   "file_extension": ".py",
   "mimetype": "text/x-python",
   "name": "python",
   "nbconvert_exporter": "python",
   "pygments_lexer": "ipython3",
   "version": "3.10.15"
  }
 },
 "nbformat": 4,
 "nbformat_minor": 2
}
